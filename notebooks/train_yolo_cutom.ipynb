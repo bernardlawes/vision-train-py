{
  "nbformat": 4,
  "nbformat_minor": 0,
  "metadata": {
    "colab": {
      "provenance": [],
      "gpuType": "L4",
      "authorship_tag": "ABX9TyO4AJhabjhXon3M0pb3yFW8",
      "include_colab_link": true
    },
    "kernelspec": {
      "name": "python3",
      "display_name": "Python 3"
    },
    "language_info": {
      "name": "python"
    }
  },
  "cells": [
    {
      "cell_type": "markdown",
      "metadata": {
        "id": "view-in-github",
        "colab_type": "text"
      },
      "source": [
        "<a href=\"https://colab.research.google.com/github/bernardlawes/vision-train-py/blob/master/notebooks/train_yolo_cutom.ipynb\" target=\"_parent\"><img src=\"https://colab.research.google.com/assets/colab-badge.svg\" alt=\"Open In Colab\"/></a>"
      ]
    },
    {
      "cell_type": "markdown",
      "source": [
        "# Train a Custom YOLO Model"
      ],
      "metadata": {
        "id": "wKVMFDhL3cGD"
      }
    },
    {
      "cell_type": "markdown",
      "source": [
        "## Verify NVIDIA GPU Availability\n",
        "Ensure that you are using GPU in your Google Colab Notebook."
      ],
      "metadata": {
        "id": "JOOMK96K4N46"
      }
    },
    {
      "cell_type": "code",
      "execution_count": null,
      "metadata": {
        "collapsed": true,
        "id": "nXmZ9Aj03IOl"
      },
      "outputs": [],
      "source": [
        "!nvidia-smi"
      ]
    },
    {
      "cell_type": "markdown",
      "source": [
        "## Gather and Label Training Images\n",
        "If labeling data, leverage opensource softare like LabelStudio.  Alternatively, I can use precreated datasets available on the Roboflow Universe, Kaggle, or Goole Images V7....  For the sake of time I will use a pre-labeled dataset found in Roboflow.\n",
        "\n",
        "<p align=center><img src=\"https://img-blog.csdnimg.cn/1d6b4ff8c172411885a7dae188fb4281.png\" height=\"360\" /></br>"
      ],
      "metadata": {
        "id": "4eZZzjrF4i4Y"
      }
    },
    {
      "cell_type": "markdown",
      "source": [
        "# Install Required Libraries\n",
        "In this case, we only need Ultralytics for YOLO"
      ],
      "metadata": {
        "id": "SJsaTxeGed0o"
      }
    },
    {
      "cell_type": "code",
      "source": [
        "!pip install ultralytics"
      ],
      "metadata": {
        "id": "wCKdd2SX8hU9",
        "collapsed": true
      },
      "execution_count": null,
      "outputs": []
    },
    {
      "cell_type": "code",
      "source": [
        "import ultralytics\n",
        "from ultralytics import YOLO\n",
        "from IPython.display import Image"
      ],
      "metadata": {
        "id": "D39CFnsw82nR"
      },
      "execution_count": null,
      "outputs": []
    },
    {
      "cell_type": "markdown",
      "source": [
        "# Install and Import Roboflow\n",
        "Only necessary to access datasets in Roboflow Universe"
      ],
      "metadata": {
        "id": "Id_-xIPBjcUH"
      }
    },
    {
      "cell_type": "code",
      "source": [
        "!pip install roboflow"
      ],
      "metadata": {
        "id": "R7jvZM6Ujxed"
      },
      "execution_count": null,
      "outputs": []
    },
    {
      "cell_type": "markdown",
      "source": [
        "Import Data from Roboflow"
      ],
      "metadata": {
        "id": "4F6s-wHJlvBF"
      }
    },
    {
      "cell_type": "code",
      "source": [
        "from roboflow import Roboflow\n",
        "rf = Roboflow(api_key=userdata.get('ROBOFLOW_API_KEY'))\n",
        "project = rf.workspace(\"pest-vision-major\").project(\"pest-vision-major-zfqvh\")\n",
        "version = project.version(6)\n",
        "dataset = version.download(\"yolov11\")"
      ],
      "metadata": {
        "id": "-uzdBknx4LLu"
      },
      "execution_count": null,
      "outputs": []
    },
    {
      "cell_type": "markdown",
      "source": [
        "# Download Data into Colab\n",
        "\n",
        "Download evanjuras' coin dataset into Colab"
      ],
      "metadata": {
        "id": "slkrL9umfwKT"
      }
    },
    {
      "cell_type": "code",
      "source": [
        "!wget -O /content/data.zip https://s3.us-west-1.amazonaws.com/evanjuras.com/resources/YOLO_coin_data_12DEC30.zip"
      ],
      "metadata": {
        "id": "hqSqpg2wfuH6"
      },
      "execution_count": null,
      "outputs": []
    },
    {
      "cell_type": "markdown",
      "source": [
        "Unzip the Data"
      ],
      "metadata": {
        "id": "-c4dzbkDlfT7"
      }
    },
    {
      "cell_type": "code",
      "source": [
        "!unzip -q /content/data.zip -d /content/custom_data"
      ],
      "metadata": {
        "id": "cvgTmI78hG5S"
      },
      "execution_count": null,
      "outputs": []
    },
    {
      "cell_type": "markdown",
      "source": [
        "# Split Images into train and validation folders.....   "
      ],
      "metadata": {
        "id": "UtvFfdbkhQCH"
      }
    },
    {
      "cell_type": "markdown",
      "source": [
        "Download evanjuras' script used to split the data into train and validation folders"
      ],
      "metadata": {
        "id": "Vhlgk8ufl5Px"
      }
    },
    {
      "cell_type": "code",
      "source": [
        "!wget -O /content/train_val_split.py https://raw.githubusercontent.com/EdjeElectronics/Train-and-Deploy-YOLO-Models/refs/heads/main/utils/train_val_split.py"
      ],
      "metadata": {
        "collapsed": true,
        "id": "ZwgxbjGWhfwh"
      },
      "execution_count": null,
      "outputs": []
    },
    {
      "cell_type": "markdown",
      "source": [
        "Run the Python script to split the data"
      ],
      "metadata": {
        "id": "9zXIk3JamDTn"
      }
    },
    {
      "cell_type": "code",
      "source": [
        "# TO DO: Improve robustness of train_val_split.py script so it can handle nested data folders, etc\n",
        "!python train_val_split.py --datapath=\"/content/custom_data\" --train_pct=0.9"
      ],
      "metadata": {
        "colab": {
          "base_uri": "https://localhost:8080/"
        },
        "id": "v2wo9SEJh1te",
        "outputId": "31b630dd-7fa9-4947-c260-330ea157a1b0"
      },
      "execution_count": null,
      "outputs": [
        {
          "output_type": "stream",
          "name": "stdout",
          "text": [
            "Created folder at /content/data/train/images.\n",
            "Created folder at /content/data/train/labels.\n",
            "Created folder at /content/data/validation/images.\n",
            "Created folder at /content/data/validation/labels.\n",
            "Number of image files: 750\n",
            "Number of annotation files: 750\n",
            "Images moving to train: 675\n",
            "Images moving to validation: 75\n"
          ]
        }
      ]
    },
    {
      "cell_type": "markdown",
      "source": [
        "# Python function to create data.yaml config file\n",
        "1. Reads \"classes.txt\" file to get list of class names\n",
        "2. Creates data dictionary with correct paths to folders, number of classes, and names of classes\n",
        "3. Writes data in YAML format to data.yaml"
      ],
      "metadata": {
        "id": "b5ygxeV1j1gA"
      }
    },
    {
      "cell_type": "code",
      "source": [
        "# Python function to automatically create data.yaml config file\n",
        "# 1. Reads \"classes.txt\" file to get list of class names\n",
        "# 2. Creates data dictionary with correct paths to folders, number of classes, and names of classes\n",
        "# 3. Writes data in YAML format to data.yaml\n",
        "\n",
        "import yaml\n",
        "import os\n",
        "\n",
        "def create_data_yaml(path_to_classes_txt, path_to_data_yaml):\n",
        "\n",
        "  # Read class.txt to get class names\n",
        "  if not os.path.exists(path_to_classes_txt):\n",
        "    print(f'classes.txt file not found! Please create a classes.txt labelmap and move it to {path_to_classes_txt}')\n",
        "    return\n",
        "  with open(path_to_classes_txt, 'r') as f:\n",
        "    classes = []\n",
        "    for line in f.readlines():\n",
        "      if len(line.strip()) == 0: continue\n",
        "      classes.append(line.strip())\n",
        "  number_of_classes = len(classes)\n",
        "\n",
        "  # Create data dictionary\n",
        "  data = {\n",
        "      'path': '/content/data',\n",
        "      'train': 'train/images',\n",
        "      'val': 'validation/images',\n",
        "      'nc': number_of_classes,\n",
        "      'names': classes\n",
        "  }\n",
        "\n",
        "  # Write data to YAML file\n",
        "  with open(path_to_data_yaml, 'w') as f:\n",
        "    yaml.dump(data, f, sort_keys=False)\n",
        "  print(f'Created config file at {path_to_data_yaml}')\n",
        "\n",
        "  return\n",
        "\n",
        "# Define path to classes.txt and run function\n",
        "path_to_classes_txt = '/content/custom_data/classes.txt'\n",
        "path_to_data_yaml = '/content/data.yaml'\n",
        "\n",
        "create_data_yaml(path_to_classes_txt, path_to_data_yaml)\n",
        "\n",
        "print('\\nFile contents:\\n')\n",
        "!cat /content/data.yaml"
      ],
      "metadata": {
        "colab": {
          "base_uri": "https://localhost:8080/"
        },
        "id": "tX5LN6iHh3oo",
        "outputId": "47afe1f7-b455-4605-983e-f799899b9860"
      },
      "execution_count": null,
      "outputs": [
        {
          "output_type": "stream",
          "name": "stdout",
          "text": [
            "Created config file at /content/data.yaml\n",
            "\n",
            "File contents:\n",
            "\n",
            "path: /content/data\n",
            "train: train/images\n",
            "val: validation/images\n",
            "nc: 4\n",
            "names:\n",
            "- penny\n",
            "- nickel\n",
            "- dime\n",
            "- quarter\n"
          ]
        }
      ]
    },
    {
      "cell_type": "markdown",
      "source": [
        "# Train the Model"
      ],
      "metadata": {
        "id": "s9Bwx_Nxmewv"
      }
    },
    {
      "cell_type": "code",
      "source": [
        "!yolo detect train data=/content/data.yaml model=yolo11s.pt epochs=80 imgsz=640"
      ],
      "metadata": {
        "id": "ejEBZmXxj7tf"
      },
      "execution_count": null,
      "outputs": []
    },
    {
      "cell_type": "markdown",
      "source": [
        "# Test the Model with validation data"
      ],
      "metadata": {
        "id": "lehpLReFsURX"
      }
    },
    {
      "cell_type": "code",
      "source": [
        "!yolo detect predict model=runs/detect/train/weights/best.pt source=data/validation/images save=True"
      ],
      "metadata": {
        "id": "QBllEORemlK2"
      },
      "execution_count": null,
      "outputs": []
    },
    {
      "cell_type": "markdown",
      "source": [
        "Display the images overlayed with predictions"
      ],
      "metadata": {
        "id": "PDE4W1ummroS"
      }
    },
    {
      "cell_type": "code",
      "source": [
        "import glob\n",
        "from IPython.display import Image, display\n",
        "for image_path in glob.glob(f'/content/runs/detect/predict/*.jpg')[:10]:\n",
        "  display(Image(filename=image_path, height=400))\n",
        "  print('\\n')"
      ],
      "metadata": {
        "id": "XJmq-FYesZp3"
      },
      "execution_count": null,
      "outputs": []
    },
    {
      "cell_type": "markdown",
      "source": [
        "# Download YOLO Model"
      ],
      "metadata": {
        "id": "mOwbKA4rtCqz"
      }
    },
    {
      "cell_type": "code",
      "source": [
        "# Create \"my_model\" folder to store model weights and train results\n",
        "!mkdir /content/my_model\n",
        "!cp /content/runs/detect/train/weights/best.pt /content/my_model/my_model.pt\n",
        "!cp -r /content/runs/detect/train /content/my_model\n",
        "\n",
        "# Zip into \"my_model.zip\"\n",
        "%cd my_model\n",
        "!zip /content/my_model.zip my_model.pt\n",
        "!zip -r /content/my_model.zip train\n",
        "%cd /content"
      ],
      "metadata": {
        "id": "olYQZ0JGsjON"
      },
      "execution_count": null,
      "outputs": []
    },
    {
      "cell_type": "markdown",
      "source": [
        "This will download the file through the browser, but it takes a very long time.\n",
        "Alternatively, just download 'my_model.zip' using Colab's sidebar"
      ],
      "metadata": {
        "id": "uRU1vzwTm-Ki"
      }
    },
    {
      "cell_type": "code",
      "source": [
        "from google.colab import files\n",
        "files.download('/content/my_model.zip')"
      ],
      "metadata": {
        "id": "RMd68MQ0tFIb"
      },
      "execution_count": null,
      "outputs": []
    },
    {
      "cell_type": "code",
      "source": [],
      "metadata": {
        "id": "IqCemmyYtMgb"
      },
      "execution_count": null,
      "outputs": []
    }
  ]
}